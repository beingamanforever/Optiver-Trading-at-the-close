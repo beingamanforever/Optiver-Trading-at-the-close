{
 "cells": [
  {
   "cell_type": "markdown",
   "id": "5d7a79ef",
   "metadata": {
    "id": "V5SpVUYocGWH",
    "papermill": {
     "duration": 0.00768,
     "end_time": "2023-12-14T15:51:23.496227",
     "exception": false,
     "start_time": "2023-12-14T15:51:23.488547",
     "status": "completed"
    },
    "tags": []
   },
   "source": [
    "##  Importing Dependencies"
   ]
  },
  {
   "cell_type": "code",
   "execution_count": 1,
   "id": "6010e77f",
   "metadata": {
    "execution": {
     "iopub.execute_input": "2023-12-14T15:51:23.511806Z",
     "iopub.status.busy": "2023-12-14T15:51:23.511507Z",
     "iopub.status.idle": "2023-12-14T15:51:28.792162Z",
     "shell.execute_reply": "2023-12-14T15:51:28.791362Z"
    },
    "id": "hCtDO6xucGWJ",
    "papermill": {
     "duration": 5.290981,
     "end_time": "2023-12-14T15:51:28.794416",
     "exception": false,
     "start_time": "2023-12-14T15:51:23.503435",
     "status": "completed"
    },
    "tags": []
   },
   "outputs": [
    {
     "name": "stderr",
     "output_type": "stream",
     "text": [
      "/opt/conda/lib/python3.10/site-packages/scipy/__init__.py:146: UserWarning: A NumPy version >=1.16.5 and <1.23.0 is required for this version of SciPy (detected version 1.24.3\n",
      "  warnings.warn(f\"A NumPy version >={np_minversion} and <{np_maxversion}\"\n",
      "/opt/conda/lib/python3.10/site-packages/dask/dataframe/_pyarrow_compat.py:23: UserWarning: You are using pyarrow version 11.0.0 which is known to be insecure. See https://www.cve.org/CVERecord?id=CVE-2023-47248 for further details. Please upgrade to pyarrow>=14.0.1 or install pyarrow-hotfix to patch your current version.\n",
      "  warnings.warn(\n"
     ]
    }
   ],
   "source": [
    "import sklearn\n",
    "import warnings\n",
    "import numpy as np\n",
    "import pandas as pd\n",
    "import lightgbm as lgbm\n",
    "import matplotlib.pyplot as plt\n",
    "warnings.filterwarnings(\"ignore\")\n",
    "from sklearn.model_selection import train_test_split, GridSearchCV\n",
    "from sklearn.metrics import r2_score"
   ]
  },
  {
   "cell_type": "markdown",
   "id": "5357528a",
   "metadata": {
    "id": "S30oXH5fcGWJ",
    "papermill": {
     "duration": 0.007434,
     "end_time": "2023-12-14T15:51:28.809697",
     "exception": false,
     "start_time": "2023-12-14T15:51:28.802263",
     "status": "completed"
    },
    "tags": []
   },
   "source": [
    "## Defining Functions for Future Use"
   ]
  },
  {
   "cell_type": "markdown",
   "id": "eefa107c",
   "metadata": {},
   "source": [
    "Using the quartiles to remove possible outliers"
   ]
  },
  {
   "cell_type": "code",
   "execution_count": 2,
   "id": "970c4090",
   "metadata": {
    "execution": {
     "iopub.execute_input": "2023-12-14T15:51:28.826377Z",
     "iopub.status.busy": "2023-12-14T15:51:28.826095Z",
     "iopub.status.idle": "2023-12-14T15:51:28.835261Z",
     "shell.execute_reply": "2023-12-14T15:51:28.834473Z"
    },
    "id": "mnlqhl3ncGWJ",
    "papermill": {
     "duration": 0.019321,
     "end_time": "2023-12-14T15:51:28.837168",
     "exception": false,
     "start_time": "2023-12-14T15:51:28.817847",
     "status": "completed"
    },
    "tags": []
   },
   "outputs": [],
   "source": [
    "# image explaining how quartiles can be used for outlier removal has been added in gthub\n",
    "# One might use other methods too for outlier removal\n",
    "def outlier_threshold(dataframe, variable):\n",
    "    Q1 = dataframe[variable].quantile(0.01)\n",
    "    Q3 = dataframe[variable].quantile(0.99)\n",
    "    IQR = Q3 - Q1\n",
    "    up_limit = Q3 + 1.5 * IQR\n",
    "    low_limit = Q1 - 1.5 * IQR\n",
    "    return low_limit, up_limit\n",
    "\n",
    "def replace_with_threshold(dataframe, variable):\n",
    "    low_limit, up_limit = outlier_threshold(dataframe, variable)\n",
    "    dataframe.loc[(dataframe[variable] < low_limit), variable] = low_limit\n",
    "    dataframe.loc[(dataframe[variable] > up_limit), variable] = up_limit\n",
    "    \n",
    "\n",
    "# Column dropped\n",
    "def feature_cols(df) :\n",
    "    cols = [c for c in df.columns if c not in ['row_id', 'time_id', 'date_id']]\n",
    "    df = df[cols]    \n",
    "    return df\n",
    "\n",
    "# Preporcessing\n",
    "def pre_process(df):\n",
    "    df = pd.get_dummies(df, columns=['imbalance_buy_sell_flag'], prefix='imbalance_flag', drop_first=True)\n",
    "    df['imbalance_ratio'] = df['imbalance_size'] / df['matched_size']\n",
    "    return df"
   ]
  },
  {
   "cell_type": "code",
   "execution_count": 3,
   "id": "8d7eb7f7",
   "metadata": {
    "execution": {
     "iopub.execute_input": "2023-12-14T15:51:28.853615Z",
     "iopub.status.busy": "2023-12-14T15:51:28.853273Z",
     "iopub.status.idle": "2023-12-14T15:51:28.974076Z",
     "shell.execute_reply": "2023-12-14T15:51:28.973165Z"
    },
    "papermill": {
     "duration": 0.131222,
     "end_time": "2023-12-14T15:51:28.976190",
     "exception": false,
     "start_time": "2023-12-14T15:51:28.844968",
     "status": "completed"
    },
    "tags": []
   },
   "outputs": [],
   "source": [
    "def engineered_features(df):\n",
    "    # lists of prices and sizes defined separately\n",
    "    prices = [\"reference_price\", \"far_price\", \"near_price\", \"ask_price\", \"bid_price\", \"wap\"]\n",
    "    sizes = [\"matched_size\", \"bid_size\", \"ask_size\", \"imbalance_size\"]\n",
    "    \n",
    "    # total volume of the stock is ask size+ bid size\n",
    "    df[\"volume\"] = df.eval(\"ask_size + bid_size\")\n",
    "    \n",
    "    # mid price of the stock (on avg)\n",
    "    df[\"mid_price\"] = df.eval(\"(ask_price + bid_price) / 2\")\n",
    "    \n",
    "    # Volume/Size Features\n",
    "    df[\"bid_ask_size_ratio\"] = df[\"bid_size\"] / df[\"ask_size\"]\n",
    "    df[\"imbalance_bid_size_ratio\"] = df[\"imbalance_size\"] / df[\"bid_size\"]\n",
    "    df[\"imbalance_ask_size_ratio\"] = df[\"imbalance_size\"] / df[\"ask_size\"]\n",
    "    df[\"matched_size_ratio\"] = df[\"matched_size\"] / (df[\"bid_size\"] + df[\"ask_size\"])\n",
    "    \n",
    "    df[\"ref_wap_difference\"] = df[\"reference_price\"] - df[\"wap\"]\n",
    "    df[\"bid_ask_spread\"] = df[\"ask_price\"] - df[\"bid_price\"]\n",
    "    df[\"near_far_price_difference\"] = df[\"far_price\"] - df[\"near_price\"]\n",
    "    \n",
    "    # Trend Indicators\n",
    "    # according to the Dataset Description, all price related columns are converted to a price move \n",
    "    # relative to the stock wap at the beginning of the auction period.\n",
    "    df[\"wap_rate_of_change\"] = df.groupby('stock_id')[\"wap\"].pct_change()\n",
    "    df[\"wap_momentum\"] = df.groupby('stock_id')[\"wap\"].diff()\n",
    "    \n",
    "    df[\"auction_start\"] = (df[\"seconds_in_bucket\"] == 0).astype(int)\n",
    "    df[\"auction_end\"] = (df[\"seconds_in_bucket\"] == 550).astype(int)\n",
    "    df[\"time_since_last_change\"] = df.groupby('stock_id')['imbalance_buy_sell_flag'].diff(periods=1).ne(0).cumsum()\n",
    "    df[\"time_until_auction_close\"] = 600 - df[\"seconds_in_bucket\"]\n",
    "      \n",
    "    # liquidity imbalance is a measure of the disparity between the quantity of buy orders and sell orders\n",
    "    # 1, it indicates a higher proportion of buy orders (bids), suggesting a potential buying pressure\n",
    "    #-1, it indicates a higher proportion of sell orders (asks), suggesting a potential selling pressure\n",
    "    # 0, it suggests a more balanced distribution of buy and sell orders.\n",
    "    # refer to the image in my github to understand more\n",
    "    df[\"liquidity_imbalance\"] = df.eval(\"(bid_size-ask_size)/(bid_size+ask_size)\")\n",
    "    \n",
    "    # A measure of the remaining order imbalance after a certain amount has been matched or executed.\n",
    "    # If the result is positive, it indicates that there is still a remaining order imbalance biased towards buying.\n",
    "    # If the result is negative, it indicates that there is still a remaining order imbalance biased towards selling.\n",
    "    # If the result is close to zero, it suggests a more balanced distribution between buy and sell orders.\n",
    "    df[\"matched_imbalance\"] = df.eval(\"(imbalance_size-matched_size)/(matched_size+imbalance_size)\")\n",
    "    \n",
    "    df[\"size_imbalance\"] = df.eval(\"bid_size / ask_size\")\n",
    "    \n",
    "    df[\"imbalance_momentum\"] = df.groupby(['stock_id'])['imbalance_size'].diff(periods=1) / df['matched_size']\n",
    "   \n",
    "    df[\"price_spread\"] = df[\"ask_price\"] - df[\"bid_price\"]\n",
    "    \n",
    "    df[\"spread_intensity\"] = df.groupby(['stock_id'])['price_spread'].diff()\n",
    "    \n",
    "    df['price_pressure'] = df['imbalance_size'] * (df['ask_price'] - df['bid_price'])\n",
    "    \n",
    "    df['depth_pressure'] = (df['ask_size'] - df['bid_size']) * (df['far_price'] - df['near_price'])\n",
    "\n",
    "    for func in [\"mean\", \"std\", \"skew\", \"kurt\"]:\n",
    "        df[f\"all_prices_{func}\"] = df[prices].agg(func, axis=1)\n",
    "        df[f\"all_sizes_{func}\"] = df[sizes].agg(func, axis=1)\n",
    "\n",
    "    #lagged values\n",
    "    for col in ['matched_size', 'imbalance_size', 'reference_price', 'imbalance_buy_sell_flag']:\n",
    "        for window in [1, 2, 3, 10]:\n",
    "            df[f\"{col}_shift_{window}\"] = df.groupby('stock_id')[col].shift(window)\n",
    "            df[f\"{col}_ret_{window}\"] = df.groupby('stock_id')[col].pct_change(window)\n",
    "\n",
    "\n",
    "   # the definations and the correlations of the terms used can be found in github         \n",
    "            \n",
    "    df['market_urgency'] = df['price_spread'] * df['liquidity_imbalance']\n",
    "    df['imbalance_ratio'] = df['imbalance_size'] / df['matched_size']\n",
    "    df['wap_askprice_diff'] = df['ask_price'] - df['wap'] \n",
    "    df['wap_bidprice_diff'] = df['wap'] - df['bid_price']\n",
    "    df['wap_askprice_diff_urg'] = df['wap_askprice_diff'] * df['liquidity_imbalance'] \n",
    "    df['wap_bidprice_diff_urg'] = df['wap_bidprice_diff'] * df['liquidity_imbalance']\n",
    "    df['bid_size_ask_size_diff'] = df.eval('(bid_size-ask_size)/(bid_size+ask_size)')\n",
    "    df['imbalance_size_matched_size_diff'] = df.eval('(imbalance_size-matched_size)/(matched_size+imbalance_size)')\n",
    "    \n",
    "# Function to generate time and stock-related features\n",
    "# According to the Dataset Description, target is the 60 second future move in the wap of the stock, \n",
    "# less the 60 second future move of the synthetic index.\n",
    "\n",
    "    df[\"dow\"] = df[\"date_id\"] % 5  # Day of the week\n",
    "    df[\"seconds\"] = df[\"seconds_in_bucket\"] % 60  # Seconds\n",
    "    df[\"minute\"] = df[\"seconds_in_bucket\"] // 60  # Minutes\n",
    "       \n",
    "    global_stock_id_feats = {\n",
    "        \"median_size\": df.groupby(\"stock_id\")[\"bid_size\"].median() + df.groupby(\"stock_id\")[\"ask_size\"].median(),\n",
    "        \"std_size\": df.groupby(\"stock_id\")[\"bid_size\"].std() + df.groupby(\"stock_id\")[\"ask_size\"].std(),\n",
    "        \"ptp_size\": df.groupby(\"stock_id\")[\"bid_size\"].max() - df.groupby(\"stock_id\")[\"bid_size\"].min(),\n",
    "        \"median_price\": df.groupby(\"stock_id\")[\"bid_price\"].median() + df.groupby(\"stock_id\")[\"ask_price\"].median(),\n",
    "        \"std_price\": df.groupby(\"stock_id\")[\"bid_price\"].std() + df.groupby(\"stock_id\")[\"ask_price\"].std(),\n",
    "        \"ptp_price\": df.groupby(\"stock_id\")[\"bid_price\"].max() - df.groupby(\"stock_id\")[\"ask_price\"].min(),\n",
    "    }\n",
    "    \n",
    "    for key, value in global_stock_id_feats.items():\n",
    "        df[f\"global_{key}\"] = df[\"stock_id\"].map(value.to_dict())\n",
    "        \n",
    "    return df.replace([np.inf, -np.inf], 0)"
   ]
  },
  {
   "cell_type": "markdown",
   "id": "7af6a495",
   "metadata": {
    "execution": {
     "iopub.execute_input": "2023-10-05T20:50:12.247449Z",
     "iopub.status.busy": "2023-10-05T20:50:12.247060Z",
     "iopub.status.idle": "2023-10-05T20:50:12.252652Z",
     "shell.execute_reply": "2023-10-05T20:50:12.251534Z",
     "shell.execute_reply.started": "2023-10-05T20:50:12.247420Z"
    },
    "id": "WtyK4zqrcGWK",
    "papermill": {
     "duration": 0.007179,
     "end_time": "2023-12-14T15:51:28.990953",
     "exception": false,
     "start_time": "2023-12-14T15:51:28.983774",
     "status": "completed"
    },
    "tags": []
   },
   "source": [
    "## Reading and Understanding The Data"
   ]
  },
  {
   "cell_type": "code",
   "execution_count": 4,
   "id": "c5f216c5",
   "metadata": {
    "execution": {
     "iopub.execute_input": "2023-12-14T15:51:29.006682Z",
     "iopub.status.busy": "2023-12-14T15:51:29.006384Z",
     "iopub.status.idle": "2023-12-14T15:51:46.958449Z",
     "shell.execute_reply": "2023-12-14T15:51:46.957649Z"
    },
    "id": "6JZkKWHIcGWK",
    "papermill": {
     "duration": 17.962529,
     "end_time": "2023-12-14T15:51:46.960762",
     "exception": false,
     "start_time": "2023-12-14T15:51:28.998233",
     "status": "completed"
    },
    "tags": []
   },
   "outputs": [],
   "source": [
    "df_ = pd.read_csv(\"/kaggle/input/optiver-trading-at-the-close/train.csv\") # training data\n",
    "test = pd.read_csv(\"/kaggle/input/optiver-trading-at-the-close/example_test_files/test.csv\") # testing data"
   ]
  },
  {
   "cell_type": "markdown",
   "id": "1e416784",
   "metadata": {},
   "source": [
    "Make a copy of 'df' for working purpose "
   ]
  },
  {
   "cell_type": "code",
   "execution_count": 5,
   "id": "e24449b9",
   "metadata": {
    "execution": {
     "iopub.execute_input": "2023-12-14T15:51:46.976927Z",
     "iopub.status.busy": "2023-12-14T15:51:46.976605Z",
     "iopub.status.idle": "2023-12-14T15:51:47.165749Z",
     "shell.execute_reply": "2023-12-14T15:51:47.164972Z"
    },
    "id": "A4CQfA1mcGWK",
    "papermill": {
     "duration": 0.199694,
     "end_time": "2023-12-14T15:51:47.168083",
     "exception": false,
     "start_time": "2023-12-14T15:51:46.968389",
     "status": "completed"
    },
    "tags": []
   },
   "outputs": [],
   "source": [
    "df = df_.copy()"
   ]
  },
  {
   "cell_type": "markdown",
   "id": "f1c84320",
   "metadata": {},
   "source": [
    "### Understandings and Findings\n",
    "1. row_id is a string concatenation of date_id, seconds_in_bucket, and stock_id, separated with underscores.\n",
    "2. target is the target variable we want to predict, for its namesake.\n",
    "3. 200 * 481 * 55 = 5,291,000, which is roughly equal to the number of total rows. We assume that the training data consist of 200 * 481 = 96,200 time series; Each time series are 55 steps long, and each time series represents the last 10 mins of a given stock on a given trading date. 5,291,000 - 5,237,980 = 53,020, so there are some data missing.\n",
    "4. There are some stocks missing data on some days entirely.\n",
    "\n",
    "Rest of the findings and resources can be accessed from github"
   ]
  },
  {
   "cell_type": "code",
   "execution_count": 6,
   "id": "7c1d384b",
   "metadata": {
    "execution": {
     "iopub.execute_input": "2023-12-14T15:51:47.198215Z",
     "iopub.status.busy": "2023-12-14T15:51:47.197928Z",
     "iopub.status.idle": "2023-12-14T15:51:47.771349Z",
     "shell.execute_reply": "2023-12-14T15:51:47.770373Z"
    },
    "papermill": {
     "duration": 0.583607,
     "end_time": "2023-12-14T15:51:47.773459",
     "exception": false,
     "start_time": "2023-12-14T15:51:47.189852",
     "status": "completed"
    },
    "tags": []
   },
   "outputs": [
    {
     "data": {
      "text/plain": [
       "5752930"
      ]
     },
     "execution_count": 6,
     "metadata": {},
     "output_type": "execute_result"
    }
   ],
   "source": [
    "df.isnull().sum().sum()"
   ]
  },
  {
   "cell_type": "markdown",
   "id": "30ae2ab7",
   "metadata": {
    "id": "cI75hwrdcGWL",
    "papermill": {
     "duration": 0.007139,
     "end_time": "2023-12-14T15:51:47.182723",
     "exception": false,
     "start_time": "2023-12-14T15:51:47.175584",
     "status": "completed"
    },
    "tags": []
   },
   "source": [
    "# PreProcessing"
   ]
  },
  {
   "cell_type": "markdown",
   "id": "1f41fd22",
   "metadata": {},
   "source": [
    "Checking for null values"
   ]
  },
  {
   "cell_type": "code",
   "execution_count": 7,
   "id": "afe4e626",
   "metadata": {
    "execution": {
     "iopub.execute_input": "2023-12-14T15:51:47.790973Z",
     "iopub.status.busy": "2023-12-14T15:51:47.790619Z",
     "iopub.status.idle": "2023-12-14T15:51:47.843501Z",
     "shell.execute_reply": "2023-12-14T15:51:47.841037Z"
    },
    "papermill": {
     "duration": 0.064005,
     "end_time": "2023-12-14T15:51:47.845485",
     "exception": false,
     "start_time": "2023-12-14T15:51:47.781480",
     "status": "completed"
    },
    "tags": []
   },
   "outputs": [
    {
     "name": "stdout",
     "output_type": "stream",
     "text": [
      "[131 101 158  19]\n",
      "[ 35 328 388 438]\n",
      "[  0  10  20  30  40  50  60  70  80  90 100 110 120 130 140 150 160 170\n",
      " 180 190 200 210 220 230 240 250 260 270 280 290 300 310 320 330 340 350\n",
      " 360 370 380 390 400 410 420 430 440 450 460 470 480 490 500 510 520 530\n",
      " 540]\n",
      "35 [131]\n",
      "328 [101]\n",
      "388 [158]\n",
      "438 [19]\n"
     ]
    }
   ],
   "source": [
    "# One day's data was missing for four stocks\n",
    "askpricena = df[df['ask_price'].isna()]\n",
    "print(askpricena.stock_id.unique())\n",
    "print(askpricena.date_id.unique())\n",
    "print(askpricena.seconds_in_bucket.unique())\n",
    "for date in askpricena.date_id.unique():\n",
    "    x = df[df.date_id == date]\n",
    "    print(date, x[x.ask_price.isna()]['stock_id'].unique().tolist())"
   ]
  },
  {
   "cell_type": "code",
   "execution_count": 8,
   "id": "2a0a1d54",
   "metadata": {
    "execution": {
     "iopub.execute_input": "2023-12-14T15:51:47.862228Z",
     "iopub.status.busy": "2023-12-14T15:51:47.861945Z",
     "iopub.status.idle": "2023-12-14T15:51:48.552664Z",
     "shell.execute_reply": "2023-12-14T15:51:48.551879Z"
    },
    "papermill": {
     "duration": 0.701813,
     "end_time": "2023-12-14T15:51:48.555049",
     "exception": false,
     "start_time": "2023-12-14T15:51:47.853236",
     "status": "completed"
    },
    "tags": []
   },
   "outputs": [],
   "source": [
    "# I'm throwing it away for now to see where the other missing data is.\n",
    "df = df.dropna(subset=[\"ask_price\"], axis=0)\n",
    "df.loc[df['seconds_in_bucket'] <= 300, \"near_price\"] = 0\n",
    "df.loc[df['seconds_in_bucket'] <= 300, \"far_price\"] = 0\n",
    "df['far_price'] = df['far_price'].interpolate()"
   ]
  },
  {
   "cell_type": "markdown",
   "id": "a5ae48e3",
   "metadata": {},
   "source": [
    "Null values have been now taken care of"
   ]
  },
  {
   "cell_type": "code",
   "execution_count": 9,
   "id": "05114ee1",
   "metadata": {
    "execution": {
     "iopub.execute_input": "2023-12-14T15:51:48.572367Z",
     "iopub.status.busy": "2023-12-14T15:51:48.571592Z",
     "iopub.status.idle": "2023-12-14T15:51:49.128412Z",
     "shell.execute_reply": "2023-12-14T15:51:49.127495Z"
    },
    "papermill": {
     "duration": 0.56759,
     "end_time": "2023-12-14T15:51:49.130497",
     "exception": false,
     "start_time": "2023-12-14T15:51:48.562907",
     "status": "completed"
    },
    "tags": []
   },
   "outputs": [
    {
     "data": {
      "text/plain": [
       "0"
      ]
     },
     "execution_count": 9,
     "metadata": {},
     "output_type": "execute_result"
    }
   ],
   "source": [
    "df.isnull().sum().sum()"
   ]
  },
  {
   "cell_type": "markdown",
   "id": "6cb20053",
   "metadata": {},
   "source": [
    "The engineered features can be accessed from the function I defined above"
   ]
  },
  {
   "cell_type": "code",
   "execution_count": 10,
   "id": "c05953d1",
   "metadata": {
    "execution": {
     "iopub.execute_input": "2023-12-14T15:51:49.148076Z",
     "iopub.status.busy": "2023-12-14T15:51:49.147504Z",
     "iopub.status.idle": "2023-12-14T15:52:37.947439Z",
     "shell.execute_reply": "2023-12-14T15:52:37.946605Z"
    },
    "papermill": {
     "duration": 48.811384,
     "end_time": "2023-12-14T15:52:37.949791",
     "exception": false,
     "start_time": "2023-12-14T15:51:49.138407",
     "status": "completed"
    },
    "tags": []
   },
   "outputs": [],
   "source": [
    "df = engineered_features(df)"
   ]
  },
  {
   "cell_type": "markdown",
   "id": "a7971db6",
   "metadata": {
    "id": "yhIFy9GZcGWM",
    "papermill": {
     "duration": 0.007376,
     "end_time": "2023-12-14T15:52:37.965655",
     "exception": false,
     "start_time": "2023-12-14T15:52:37.958279",
     "status": "completed"
    },
    "tags": []
   },
   "source": [
    "# Modelling of model"
   ]
  },
  {
   "cell_type": "markdown",
   "id": "db9b4e63",
   "metadata": {},
   "source": [
    "I would be using a simple lightGBM workflow as baseline"
   ]
  },
  {
   "cell_type": "code",
   "execution_count": 11,
   "id": "1aee29d5",
   "metadata": {
    "execution": {
     "iopub.execute_input": "2023-12-14T15:52:37.982177Z",
     "iopub.status.busy": "2023-12-14T15:52:37.981609Z",
     "iopub.status.idle": "2023-12-14T15:52:37.985894Z",
     "shell.execute_reply": "2023-12-14T15:52:37.985044Z"
    },
    "id": "jLK4p9JOcGWM",
    "papermill": {
     "duration": 0.014483,
     "end_time": "2023-12-14T15:52:37.987645",
     "exception": false,
     "start_time": "2023-12-14T15:52:37.973162",
     "status": "completed"
    },
    "tags": []
   },
   "outputs": [],
   "source": [
    "from lightgbm import LGBMRegressor\n",
    "from sklearn.model_selection import cross_validate\n",
    "from sklearn.metrics import mean_squared_error"
   ]
  },
  {
   "cell_type": "code",
   "execution_count": 12,
   "id": "778b6f23",
   "metadata": {
    "execution": {
     "iopub.execute_input": "2023-12-14T15:52:38.004406Z",
     "iopub.status.busy": "2023-12-14T15:52:38.003728Z",
     "iopub.status.idle": "2023-12-14T15:52:39.293716Z",
     "shell.execute_reply": "2023-12-14T15:52:39.292591Z"
    },
    "id": "G1xDR1DrcGWM",
    "papermill": {
     "duration": 1.300925,
     "end_time": "2023-12-14T15:52:39.296216",
     "exception": false,
     "start_time": "2023-12-14T15:52:37.995291",
     "status": "completed"
    },
    "tags": []
   },
   "outputs": [],
   "source": [
    "# dropping off the target column as its the dependent variable\n",
    "X = df.drop([\"target\", \"row_id\"], axis=1)\n",
    "y = df[[\"target\"]]\n",
    "# X_train, X_test, y_train, y_test = train_test_split(X, y, test_size=0.33, random_state=44)"
   ]
  },
  {
   "cell_type": "code",
   "execution_count": 13,
   "id": "25d917fa",
   "metadata": {
    "execution": {
     "iopub.execute_input": "2023-12-14T15:52:39.314689Z",
     "iopub.status.busy": "2023-12-14T15:52:39.314119Z",
     "iopub.status.idle": "2023-12-14T15:54:35.636170Z",
     "shell.execute_reply": "2023-12-14T15:54:35.635116Z"
    },
    "id": "CpLJM24McGWN",
    "outputId": "be32edf0-c1d6-4990-f8fd-062df89d25ed",
    "papermill": {
     "duration": 116.33347,
     "end_time": "2023-12-14T15:54:35.638479",
     "exception": false,
     "start_time": "2023-12-14T15:52:39.305009",
     "status": "completed"
    },
    "tags": []
   },
   "outputs": [
    {
     "data": {
      "text/html": [
       "<style>#sk-container-id-1 {color: black;background-color: white;}#sk-container-id-1 pre{padding: 0;}#sk-container-id-1 div.sk-toggleable {background-color: white;}#sk-container-id-1 label.sk-toggleable__label {cursor: pointer;display: block;width: 100%;margin-bottom: 0;padding: 0.3em;box-sizing: border-box;text-align: center;}#sk-container-id-1 label.sk-toggleable__label-arrow:before {content: \"▸\";float: left;margin-right: 0.25em;color: #696969;}#sk-container-id-1 label.sk-toggleable__label-arrow:hover:before {color: black;}#sk-container-id-1 div.sk-estimator:hover label.sk-toggleable__label-arrow:before {color: black;}#sk-container-id-1 div.sk-toggleable__content {max-height: 0;max-width: 0;overflow: hidden;text-align: left;background-color: #f0f8ff;}#sk-container-id-1 div.sk-toggleable__content pre {margin: 0.2em;color: black;border-radius: 0.25em;background-color: #f0f8ff;}#sk-container-id-1 input.sk-toggleable__control:checked~div.sk-toggleable__content {max-height: 200px;max-width: 100%;overflow: auto;}#sk-container-id-1 input.sk-toggleable__control:checked~label.sk-toggleable__label-arrow:before {content: \"▾\";}#sk-container-id-1 div.sk-estimator input.sk-toggleable__control:checked~label.sk-toggleable__label {background-color: #d4ebff;}#sk-container-id-1 div.sk-label input.sk-toggleable__control:checked~label.sk-toggleable__label {background-color: #d4ebff;}#sk-container-id-1 input.sk-hidden--visually {border: 0;clip: rect(1px 1px 1px 1px);clip: rect(1px, 1px, 1px, 1px);height: 1px;margin: -1px;overflow: hidden;padding: 0;position: absolute;width: 1px;}#sk-container-id-1 div.sk-estimator {font-family: monospace;background-color: #f0f8ff;border: 1px dotted black;border-radius: 0.25em;box-sizing: border-box;margin-bottom: 0.5em;}#sk-container-id-1 div.sk-estimator:hover {background-color: #d4ebff;}#sk-container-id-1 div.sk-parallel-item::after {content: \"\";width: 100%;border-bottom: 1px solid gray;flex-grow: 1;}#sk-container-id-1 div.sk-label:hover label.sk-toggleable__label {background-color: #d4ebff;}#sk-container-id-1 div.sk-serial::before {content: \"\";position: absolute;border-left: 1px solid gray;box-sizing: border-box;top: 0;bottom: 0;left: 50%;z-index: 0;}#sk-container-id-1 div.sk-serial {display: flex;flex-direction: column;align-items: center;background-color: white;padding-right: 0.2em;padding-left: 0.2em;position: relative;}#sk-container-id-1 div.sk-item {position: relative;z-index: 1;}#sk-container-id-1 div.sk-parallel {display: flex;align-items: stretch;justify-content: center;background-color: white;position: relative;}#sk-container-id-1 div.sk-item::before, #sk-container-id-1 div.sk-parallel-item::before {content: \"\";position: absolute;border-left: 1px solid gray;box-sizing: border-box;top: 0;bottom: 0;left: 50%;z-index: -1;}#sk-container-id-1 div.sk-parallel-item {display: flex;flex-direction: column;z-index: 1;position: relative;background-color: white;}#sk-container-id-1 div.sk-parallel-item:first-child::after {align-self: flex-end;width: 50%;}#sk-container-id-1 div.sk-parallel-item:last-child::after {align-self: flex-start;width: 50%;}#sk-container-id-1 div.sk-parallel-item:only-child::after {width: 0;}#sk-container-id-1 div.sk-dashed-wrapped {border: 1px dashed gray;margin: 0 0.4em 0.5em 0.4em;box-sizing: border-box;padding-bottom: 0.4em;background-color: white;}#sk-container-id-1 div.sk-label label {font-family: monospace;font-weight: bold;display: inline-block;line-height: 1.2em;}#sk-container-id-1 div.sk-label-container {text-align: center;}#sk-container-id-1 div.sk-container {/* jupyter's `normalize.less` sets `[hidden] { display: none; }` but bootstrap.min.css set `[hidden] { display: none !important; }` so we also need the `!important` here to be able to override the default hidden behavior on the sphinx rendered scikit-learn.org. See: https://github.com/scikit-learn/scikit-learn/issues/21755 */display: inline-block !important;position: relative;}#sk-container-id-1 div.sk-text-repr-fallback {display: none;}</style><div id=\"sk-container-id-1\" class=\"sk-top-container\"><div class=\"sk-text-repr-fallback\"><pre>LGBMRegressor()</pre><b>In a Jupyter environment, please rerun this cell to show the HTML representation or trust the notebook. <br />On GitHub, the HTML representation is unable to render, please try loading this page with nbviewer.org.</b></div><div class=\"sk-container\" hidden><div class=\"sk-item\"><div class=\"sk-estimator sk-toggleable\"><input class=\"sk-toggleable__control sk-hidden--visually\" id=\"sk-estimator-id-1\" type=\"checkbox\" checked><label for=\"sk-estimator-id-1\" class=\"sk-toggleable__label sk-toggleable__label-arrow\">LGBMRegressor</label><div class=\"sk-toggleable__content\"><pre>LGBMRegressor()</pre></div></div></div></div></div>"
      ],
      "text/plain": [
       "LGBMRegressor()"
      ]
     },
     "execution_count": 13,
     "metadata": {},
     "output_type": "execute_result"
    }
   ],
   "source": [
    "lgb_model = lgbm.LGBMRegressor()\n",
    "lgb_model.fit(X, y) # didn't split so as to take more input into consideration"
   ]
  },
  {
   "cell_type": "code",
   "execution_count": 14,
   "id": "dc5f1cc7",
   "metadata": {
    "execution": {
     "iopub.execute_input": "2023-12-14T15:54:35.655796Z",
     "iopub.status.busy": "2023-12-14T15:54:35.655493Z",
     "iopub.status.idle": "2023-12-14T15:54:35.659433Z",
     "shell.execute_reply": "2023-12-14T15:54:35.658561Z"
    },
    "papermill": {
     "duration": 0.014733,
     "end_time": "2023-12-14T15:54:35.661401",
     "exception": false,
     "start_time": "2023-12-14T15:54:35.646668",
     "status": "completed"
    },
    "tags": []
   },
   "outputs": [],
   "source": [
    "# pred = lgb_model.predict(X)"
   ]
  },
  {
   "cell_type": "code",
   "execution_count": 15,
   "id": "5afb295e",
   "metadata": {
    "execution": {
     "iopub.execute_input": "2023-12-14T15:54:35.678210Z",
     "iopub.status.busy": "2023-12-14T15:54:35.677958Z",
     "iopub.status.idle": "2023-12-14T15:54:35.681773Z",
     "shell.execute_reply": "2023-12-14T15:54:35.680952Z"
    },
    "papermill": {
     "duration": 0.014674,
     "end_time": "2023-12-14T15:54:35.683759",
     "exception": false,
     "start_time": "2023-12-14T15:54:35.669085",
     "status": "completed"
    },
    "tags": []
   },
   "outputs": [],
   "source": [
    "#import seaborn as sns"
   ]
  },
  {
   "cell_type": "markdown",
   "id": "201dab08",
   "metadata": {},
   "source": [
    "# Visualization"
   ]
  },
  {
   "cell_type": "code",
   "execution_count": 16,
   "id": "279e46c9",
   "metadata": {
    "execution": {
     "iopub.execute_input": "2023-12-14T15:54:35.700497Z",
     "iopub.status.busy": "2023-12-14T15:54:35.700223Z",
     "iopub.status.idle": "2023-12-14T15:54:35.706301Z",
     "shell.execute_reply": "2023-12-14T15:54:35.705489Z"
    },
    "papermill": {
     "duration": 0.016517,
     "end_time": "2023-12-14T15:54:35.708232",
     "exception": false,
     "start_time": "2023-12-14T15:54:35.691715",
     "status": "completed"
    },
    "tags": []
   },
   "outputs": [],
   "source": [
    "def plot_importance(model, features, num=len(X)):\n",
    "    feature_imp = pd.DataFrame({'Value': model.feature_importances_, 'Feature': features.columns})\n",
    "    plt.figure(figsize=(10, 10))\n",
    "    sns.set(font_scale=1)\n",
    "    sns.barplot(x=\"Value\", y=\"Feature\", data=feature_imp.sort_values(by=\"Value\",\n",
    "                                                                     ascending=False)[0:num])\n",
    "    plt.title('Features')\n",
    "    plt.tight_layout()\n",
    "    plt.show(block=True)"
   ]
  },
  {
   "cell_type": "code",
   "execution_count": 17,
   "id": "dc8a8fcf",
   "metadata": {
    "execution": {
     "iopub.execute_input": "2023-12-14T15:54:35.725298Z",
     "iopub.status.busy": "2023-12-14T15:54:35.725051Z",
     "iopub.status.idle": "2023-12-14T15:54:35.728627Z",
     "shell.execute_reply": "2023-12-14T15:54:35.727783Z"
    },
    "papermill": {
     "duration": 0.014284,
     "end_time": "2023-12-14T15:54:35.730502",
     "exception": false,
     "start_time": "2023-12-14T15:54:35.716218",
     "status": "completed"
    },
    "tags": []
   },
   "outputs": [],
   "source": [
    "# plot_importance(lgb_model, X)"
   ]
  },
  {
   "cell_type": "markdown",
   "id": "284107fc",
   "metadata": {},
   "source": [
    "# Tuning of model"
   ]
  },
  {
   "cell_type": "code",
   "execution_count": 18,
   "id": "711584a9",
   "metadata": {
    "execution": {
     "iopub.execute_input": "2023-12-14T15:54:35.747346Z",
     "iopub.status.busy": "2023-12-14T15:54:35.747092Z",
     "iopub.status.idle": "2023-12-14T15:54:35.752640Z",
     "shell.execute_reply": "2023-12-14T15:54:35.751784Z"
    },
    "papermill": {
     "duration": 0.016098,
     "end_time": "2023-12-14T15:54:35.754458",
     "exception": false,
     "start_time": "2023-12-14T15:54:35.738360",
     "status": "completed"
    },
    "tags": []
   },
   "outputs": [
    {
     "data": {
      "text/plain": [
       "'lgb_params = {\"learning_rate\": [0.01, 0.1],\\n               \"n_estimators\": [100, 300, 500, 1000],\\n               \"colsample_bytree\": [0.5, 0.7, 1]}'"
      ]
     },
     "execution_count": 18,
     "metadata": {},
     "output_type": "execute_result"
    }
   ],
   "source": [
    "\"\"\"lgb_params = {\"learning_rate\": [0.01, 0.1],\n",
    "               \"n_estimators\": [100, 300, 500, 1000],\n",
    "               \"colsample_bytree\": [0.5, 0.7, 1]}\"\"\""
   ]
  },
  {
   "cell_type": "code",
   "execution_count": 19,
   "id": "83d5aedf",
   "metadata": {
    "execution": {
     "iopub.execute_input": "2023-12-14T15:54:35.771286Z",
     "iopub.status.busy": "2023-12-14T15:54:35.771020Z",
     "iopub.status.idle": "2023-12-14T15:54:35.776406Z",
     "shell.execute_reply": "2023-12-14T15:54:35.775579Z"
    },
    "papermill": {
     "duration": 0.016022,
     "end_time": "2023-12-14T15:54:35.778314",
     "exception": false,
     "start_time": "2023-12-14T15:54:35.762292",
     "status": "completed"
    },
    "tags": []
   },
   "outputs": [
    {
     "data": {
      "text/plain": [
       "'lgbm_best_grid = GridSearchCV(lgb_model, lgb_params, cv=5, n_jobs=-1, verbose=True).fit(X, y)'"
      ]
     },
     "execution_count": 19,
     "metadata": {},
     "output_type": "execute_result"
    }
   ],
   "source": [
    "\"\"\"lgbm_best_grid = GridSearchCV(lgb_model, lgb_params, cv=5, n_jobs=-1, verbose=True).fit(X, y)\"\"\""
   ]
  },
  {
   "cell_type": "code",
   "execution_count": 20,
   "id": "f3c237a3",
   "metadata": {
    "execution": {
     "iopub.execute_input": "2023-12-14T15:54:35.796623Z",
     "iopub.status.busy": "2023-12-14T15:54:35.796359Z",
     "iopub.status.idle": "2023-12-14T15:54:35.801678Z",
     "shell.execute_reply": "2023-12-14T15:54:35.800808Z"
    },
    "papermill": {
     "duration": 0.01689,
     "end_time": "2023-12-14T15:54:35.803796",
     "exception": false,
     "start_time": "2023-12-14T15:54:35.786906",
     "status": "completed"
    },
    "tags": []
   },
   "outputs": [
    {
     "data": {
      "text/plain": [
       "'lgb_final = lgb_model.set_params(**lgbm_best_grid.best_params_, random_state=17).fit(X, y)'"
      ]
     },
     "execution_count": 20,
     "metadata": {},
     "output_type": "execute_result"
    }
   ],
   "source": [
    "\"\"\"lgb_final = lgb_model.set_params(**lgbm_best_grid.best_params_, random_state=17).fit(X, y)\"\"\""
   ]
  },
  {
   "cell_type": "markdown",
   "id": "f64d276f",
   "metadata": {},
   "source": [
    "# Submission"
   ]
  },
  {
   "cell_type": "code",
   "execution_count": 21,
   "id": "aaf2c248",
   "metadata": {
    "execution": {
     "iopub.execute_input": "2023-12-14T15:54:35.821303Z",
     "iopub.status.busy": "2023-12-14T15:54:35.821044Z",
     "iopub.status.idle": "2023-12-14T15:54:35.845339Z",
     "shell.execute_reply": "2023-12-14T15:54:35.844490Z"
    },
    "papermill": {
     "duration": 0.035261,
     "end_time": "2023-12-14T15:54:35.847267",
     "exception": false,
     "start_time": "2023-12-14T15:54:35.812006",
     "status": "completed"
    },
    "tags": []
   },
   "outputs": [],
   "source": [
    "import optiver2023\n",
    "env = optiver2023.make_env()\n",
    "iter_test = env.iter_test()"
   ]
  },
  {
   "cell_type": "code",
   "execution_count": 22,
   "id": "43071f1f",
   "metadata": {
    "execution": {
     "iopub.execute_input": "2023-12-14T15:54:35.864545Z",
     "iopub.status.busy": "2023-12-14T15:54:35.864288Z",
     "iopub.status.idle": "2023-12-14T15:55:38.941865Z",
     "shell.execute_reply": "2023-12-14T15:55:38.940976Z"
    },
    "papermill": {
     "duration": 63.089006,
     "end_time": "2023-12-14T15:55:38.944463",
     "exception": false,
     "start_time": "2023-12-14T15:54:35.855457",
     "status": "completed"
    },
    "tags": []
   },
   "outputs": [
    {
     "name": "stdout",
     "output_type": "stream",
     "text": [
      "This version of the API is not optimized and should not be used to estimate the runtime of your code on the hidden test set.\n"
     ]
    }
   ],
   "source": [
    "counter = 0\n",
    "for (test, revealed_targets, sample_prediction) in iter_test:\n",
    "    test = engineered_features(test)\n",
    "    test_df = test.drop([\"row_id\"], axis=1)\n",
    "    sample_prediction['target'] = lgb_model.predict(test_df)\n",
    "    env.predict(sample_prediction)\n",
    "    \n",
    "    counter += 1"
   ]
  },
  {
   "cell_type": "markdown",
   "id": "fd843139",
   "metadata": {},
   "source": [
    "I would now try to improve the baseline model, by tuning its parameters and adding more visualization to understand the underlying complex terminologies involved in the problem statement."
   ]
  }
 ],
 "metadata": {
  "kaggle": {
   "accelerator": "nvidiaTeslaT4",
   "dataSources": [
    {
     "databundleVersionId": 7056235,
     "sourceId": 57891,
     "sourceType": "competition"
    }
   ],
   "isGpuEnabled": true,
   "isInternetEnabled": false,
   "language": "python",
   "sourceType": "notebook"
  },
  "kernelspec": {
   "display_name": "Python 3 (ipykernel)",
   "language": "python",
   "name": "python3"
  },
  "language_info": {
   "codemirror_mode": {
    "name": "ipython",
    "version": 3
   },
   "file_extension": ".py",
   "mimetype": "text/x-python",
   "name": "python",
   "nbconvert_exporter": "python",
   "pygments_lexer": "ipython3",
   "version": "3.11.4"
  },
  "papermill": {
   "default_parameters": {},
   "duration": 260.298896,
   "end_time": "2023-12-14T15:55:40.275593",
   "environment_variables": {},
   "exception": null,
   "input_path": "__notebook__.ipynb",
   "output_path": "__notebook__.ipynb",
   "parameters": {},
   "start_time": "2023-12-14T15:51:19.976697",
   "version": "2.4.0"
  }
 },
 "nbformat": 4,
 "nbformat_minor": 5
}
